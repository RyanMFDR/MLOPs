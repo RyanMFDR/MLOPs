{
  "nbformat": 4,
  "nbformat_minor": 0,
  "metadata": {
    "colab": {
      "provenance": []
    },
    "kernelspec": {
      "name": "python3",
      "display_name": "Python 3"
    },
    "language_info": {
      "name": "python"
    }
  },
  "cells": [
    {
      "cell_type": "code",
      "execution_count": 21,
      "metadata": {
        "id": "9REL_Z4AkA5_"
      },
      "outputs": [],
      "source": [
        "# Import library\n",
        "import pandas as pd\n",
        "import re\n",
        "from google.colab import files"
      ]
    },
    {
      "cell_type": "code",
      "source": [
        "#upload file\n",
        "uploaded = files.upload()\n",
        "file_path = list(uploaded.keys())[0]"
      ],
      "metadata": {
        "colab": {
          "base_uri": "https://localhost:8080/",
          "height": 73
        },
        "id": "QsyIeF5zlGBD",
        "outputId": "b2f4e0c6-fa25-4aca-d4a6-2969a3330328"
      },
      "execution_count": 2,
      "outputs": [
        {
          "output_type": "display_data",
          "data": {
            "text/plain": [
              "<IPython.core.display.HTML object>"
            ],
            "text/html": [
              "\n",
              "     <input type=\"file\" id=\"files-ef59fa2d-dc86-455b-86eb-15b8f44eb7d5\" name=\"files[]\" multiple disabled\n",
              "        style=\"border:none\" />\n",
              "     <output id=\"result-ef59fa2d-dc86-455b-86eb-15b8f44eb7d5\">\n",
              "      Upload widget is only available when the cell has been executed in the\n",
              "      current browser session. Please rerun this cell to enable.\n",
              "      </output>\n",
              "      <script>// Copyright 2017 Google LLC\n",
              "//\n",
              "// Licensed under the Apache License, Version 2.0 (the \"License\");\n",
              "// you may not use this file except in compliance with the License.\n",
              "// You may obtain a copy of the License at\n",
              "//\n",
              "//      http://www.apache.org/licenses/LICENSE-2.0\n",
              "//\n",
              "// Unless required by applicable law or agreed to in writing, software\n",
              "// distributed under the License is distributed on an \"AS IS\" BASIS,\n",
              "// WITHOUT WARRANTIES OR CONDITIONS OF ANY KIND, either express or implied.\n",
              "// See the License for the specific language governing permissions and\n",
              "// limitations under the License.\n",
              "\n",
              "/**\n",
              " * @fileoverview Helpers for google.colab Python module.\n",
              " */\n",
              "(function(scope) {\n",
              "function span(text, styleAttributes = {}) {\n",
              "  const element = document.createElement('span');\n",
              "  element.textContent = text;\n",
              "  for (const key of Object.keys(styleAttributes)) {\n",
              "    element.style[key] = styleAttributes[key];\n",
              "  }\n",
              "  return element;\n",
              "}\n",
              "\n",
              "// Max number of bytes which will be uploaded at a time.\n",
              "const MAX_PAYLOAD_SIZE = 100 * 1024;\n",
              "\n",
              "function _uploadFiles(inputId, outputId) {\n",
              "  const steps = uploadFilesStep(inputId, outputId);\n",
              "  const outputElement = document.getElementById(outputId);\n",
              "  // Cache steps on the outputElement to make it available for the next call\n",
              "  // to uploadFilesContinue from Python.\n",
              "  outputElement.steps = steps;\n",
              "\n",
              "  return _uploadFilesContinue(outputId);\n",
              "}\n",
              "\n",
              "// This is roughly an async generator (not supported in the browser yet),\n",
              "// where there are multiple asynchronous steps and the Python side is going\n",
              "// to poll for completion of each step.\n",
              "// This uses a Promise to block the python side on completion of each step,\n",
              "// then passes the result of the previous step as the input to the next step.\n",
              "function _uploadFilesContinue(outputId) {\n",
              "  const outputElement = document.getElementById(outputId);\n",
              "  const steps = outputElement.steps;\n",
              "\n",
              "  const next = steps.next(outputElement.lastPromiseValue);\n",
              "  return Promise.resolve(next.value.promise).then((value) => {\n",
              "    // Cache the last promise value to make it available to the next\n",
              "    // step of the generator.\n",
              "    outputElement.lastPromiseValue = value;\n",
              "    return next.value.response;\n",
              "  });\n",
              "}\n",
              "\n",
              "/**\n",
              " * Generator function which is called between each async step of the upload\n",
              " * process.\n",
              " * @param {string} inputId Element ID of the input file picker element.\n",
              " * @param {string} outputId Element ID of the output display.\n",
              " * @return {!Iterable<!Object>} Iterable of next steps.\n",
              " */\n",
              "function* uploadFilesStep(inputId, outputId) {\n",
              "  const inputElement = document.getElementById(inputId);\n",
              "  inputElement.disabled = false;\n",
              "\n",
              "  const outputElement = document.getElementById(outputId);\n",
              "  outputElement.innerHTML = '';\n",
              "\n",
              "  const pickedPromise = new Promise((resolve) => {\n",
              "    inputElement.addEventListener('change', (e) => {\n",
              "      resolve(e.target.files);\n",
              "    });\n",
              "  });\n",
              "\n",
              "  const cancel = document.createElement('button');\n",
              "  inputElement.parentElement.appendChild(cancel);\n",
              "  cancel.textContent = 'Cancel upload';\n",
              "  const cancelPromise = new Promise((resolve) => {\n",
              "    cancel.onclick = () => {\n",
              "      resolve(null);\n",
              "    };\n",
              "  });\n",
              "\n",
              "  // Wait for the user to pick the files.\n",
              "  const files = yield {\n",
              "    promise: Promise.race([pickedPromise, cancelPromise]),\n",
              "    response: {\n",
              "      action: 'starting',\n",
              "    }\n",
              "  };\n",
              "\n",
              "  cancel.remove();\n",
              "\n",
              "  // Disable the input element since further picks are not allowed.\n",
              "  inputElement.disabled = true;\n",
              "\n",
              "  if (!files) {\n",
              "    return {\n",
              "      response: {\n",
              "        action: 'complete',\n",
              "      }\n",
              "    };\n",
              "  }\n",
              "\n",
              "  for (const file of files) {\n",
              "    const li = document.createElement('li');\n",
              "    li.append(span(file.name, {fontWeight: 'bold'}));\n",
              "    li.append(span(\n",
              "        `(${file.type || 'n/a'}) - ${file.size} bytes, ` +\n",
              "        `last modified: ${\n",
              "            file.lastModifiedDate ? file.lastModifiedDate.toLocaleDateString() :\n",
              "                                    'n/a'} - `));\n",
              "    const percent = span('0% done');\n",
              "    li.appendChild(percent);\n",
              "\n",
              "    outputElement.appendChild(li);\n",
              "\n",
              "    const fileDataPromise = new Promise((resolve) => {\n",
              "      const reader = new FileReader();\n",
              "      reader.onload = (e) => {\n",
              "        resolve(e.target.result);\n",
              "      };\n",
              "      reader.readAsArrayBuffer(file);\n",
              "    });\n",
              "    // Wait for the data to be ready.\n",
              "    let fileData = yield {\n",
              "      promise: fileDataPromise,\n",
              "      response: {\n",
              "        action: 'continue',\n",
              "      }\n",
              "    };\n",
              "\n",
              "    // Use a chunked sending to avoid message size limits. See b/62115660.\n",
              "    let position = 0;\n",
              "    do {\n",
              "      const length = Math.min(fileData.byteLength - position, MAX_PAYLOAD_SIZE);\n",
              "      const chunk = new Uint8Array(fileData, position, length);\n",
              "      position += length;\n",
              "\n",
              "      const base64 = btoa(String.fromCharCode.apply(null, chunk));\n",
              "      yield {\n",
              "        response: {\n",
              "          action: 'append',\n",
              "          file: file.name,\n",
              "          data: base64,\n",
              "        },\n",
              "      };\n",
              "\n",
              "      let percentDone = fileData.byteLength === 0 ?\n",
              "          100 :\n",
              "          Math.round((position / fileData.byteLength) * 100);\n",
              "      percent.textContent = `${percentDone}% done`;\n",
              "\n",
              "    } while (position < fileData.byteLength);\n",
              "  }\n",
              "\n",
              "  // All done.\n",
              "  yield {\n",
              "    response: {\n",
              "      action: 'complete',\n",
              "    }\n",
              "  };\n",
              "}\n",
              "\n",
              "scope.google = scope.google || {};\n",
              "scope.google.colab = scope.google.colab || {};\n",
              "scope.google.colab._files = {\n",
              "  _uploadFiles,\n",
              "  _uploadFilesContinue,\n",
              "};\n",
              "})(self);\n",
              "</script> "
            ]
          },
          "metadata": {}
        },
        {
          "output_type": "stream",
          "name": "stdout",
          "text": [
            "Saving JPTIIK.csv to JPTIIK.csv\n"
          ]
        }
      ]
    },
    {
      "cell_type": "code",
      "source": [
        "df = pd.read_csv(file_path)\n",
        "print(df.head())"
      ],
      "metadata": {
        "id": "FTxFprHZl0Gs",
        "colab": {
          "base_uri": "https://localhost:8080/"
        },
        "outputId": "6579ca1c-607b-40e2-bbd9-031c8e423ec1"
      },
      "execution_count": 31,
      "outputs": [
        {
          "output_type": "stream",
          "name": "stdout",
          "text": [
            "  web-scraper-order                              web-scraper-start-url  \\\n",
            "0    1739944760-452  https://j-ptiik.ub.ac.id/index.php/j-ptiik/iss...   \n",
            "1    1739944760-453  https://j-ptiik.ub.ac.id/index.php/j-ptiik/iss...   \n",
            "2    1739944762-454  https://j-ptiik.ub.ac.id/index.php/j-ptiik/iss...   \n",
            "3    1739944762-455  https://j-ptiik.ub.ac.id/index.php/j-ptiik/iss...   \n",
            "4    1739944762-456  https://j-ptiik.ub.ac.id/index.php/j-ptiik/iss...   \n",
            "\n",
            "                        jurnal  \\\n",
            "0  Publikasi Khusus Tahun 2023   \n",
            "1  Publikasi Khusus Tahun 2023   \n",
            "2  Publikasi Khusus Tahun 2023   \n",
            "3  Publikasi Khusus Tahun 2023   \n",
            "4  Publikasi Khusus Tahun 2023   \n",
            "\n",
            "                                         jurnal-href  \\\n",
            "0  https://j-ptiik.ub.ac.id/index.php/j-ptiik/iss...   \n",
            "1  https://j-ptiik.ub.ac.id/index.php/j-ptiik/iss...   \n",
            "2  https://j-ptiik.ub.ac.id/index.php/j-ptiik/iss...   \n",
            "3  https://j-ptiik.ub.ac.id/index.php/j-ptiik/iss...   \n",
            "4  https://j-ptiik.ub.ac.id/index.php/j-ptiik/iss...   \n",
            "\n",
            "                                             artikel  \\\n",
            "0  Analisis Perbandingan Load Balancing dengan Me...   \n",
            "1  Analisis Perbandingan Load Balancing dengan Me...   \n",
            "2  Implementasi Serangan Sniffing terhadap Algori...   \n",
            "3  Implementasi Serangan Sniffing terhadap Algori...   \n",
            "4  Implementasi Serangan Sniffing terhadap Algori...   \n",
            "\n",
            "                                        artikel-href  \\\n",
            "0  https://j-ptiik.ub.ac.id/index.php/j-ptiik/art...   \n",
            "1  https://j-ptiik.ub.ac.id/index.php/j-ptiik/art...   \n",
            "2  https://j-ptiik.ub.ac.id/index.php/j-ptiik/art...   \n",
            "3  https://j-ptiik.ub.ac.id/index.php/j-ptiik/art...   \n",
            "4  https://j-ptiik.ub.ac.id/index.php/j-ptiik/art...   \n",
            "\n",
            "                                               title  \\\n",
            "0  Analisis Perbandingan Load Balancing dengan Me...   \n",
            "1  Analisis Perbandingan Load Balancing dengan Me...   \n",
            "2  Implementasi Serangan Sniffing terhadap Algori...   \n",
            "3  Implementasi Serangan Sniffing terhadap Algori...   \n",
            "4  Implementasi Serangan Sniffing terhadap Algori...   \n",
            "\n",
            "                         penulis  \n",
            "0  Handy Kurniawan Ponco Widagdo  \n",
            "1                 Heru Nurwasito  \n",
            "2                    Fani Madina  \n",
            "3                   Ari Kusyanti  \n",
            "4           Fariz Andri Bakhtiar  \n"
          ]
        }
      ]
    },
    {
      "cell_type": "code",
      "source": [
        "print(\"Kolom dalam dataset:\", df.columns.tolist())"
      ],
      "metadata": {
        "id": "TMr2OKxQl0ev",
        "colab": {
          "base_uri": "https://localhost:8080/"
        },
        "outputId": "22ef13bb-45b0-4231-e207-c01e6f57cfd1"
      },
      "execution_count": 29,
      "outputs": [
        {
          "output_type": "stream",
          "name": "stdout",
          "text": [
            "Kolom dalam dataset: ['web-scraper-order', 'web-scraper-start-url', 'jurnal', 'jurnal-href', 'artikel', 'artikel-href', 'title', 'penulis']\n"
          ]
        }
      ]
    },
    {
      "cell_type": "code",
      "source": [
        "def clean_text(text):\n",
        "    if pd.isna(text):\n",
        "        return \"\"\n",
        "    text = text.lower()  # Ubah ke huruf kecil\n",
        "    text = re.sub(r'[^a-zA-Z0-9\\s]', '', text)  # Hapus karakter khusus\n",
        "    return text"
      ],
      "metadata": {
        "id": "ratWxWJzl3pR"
      },
      "execution_count": 32,
      "outputs": []
    },
    {
      "cell_type": "code",
      "source": [
        "# Validasi kolom yang diperlukan\n",
        "if 'artikel' in df.columns and 'penulis' in df.columns:\n",
        "    df['cleaned_title'] = df['artikel'].apply(clean_text)\n",
        "    df = df.rename(columns={'artikel': 'title'})\n",
        "    df = df[['title', 'penulis', 'cleaned_title']]\n",
        "else:\n",
        "    print(\"Kolom 'artikel' atau 'penulis' tidak ditemukan. Pastikan format CSV benar.\")"
      ],
      "metadata": {
        "id": "whrNGwf5l5Id"
      },
      "execution_count": 34,
      "outputs": []
    },
    {
      "cell_type": "code",
      "source": [
        "df.drop_duplicates(inplace=True)\n",
        "df.dropna(inplace=True)"
      ],
      "metadata": {
        "id": "erXZ4Ht9l6LF"
      },
      "execution_count": 35,
      "outputs": []
    },
    {
      "cell_type": "code",
      "source": [
        "print(\"Pembersihan selesai. Contoh data setelah dibersihkan:\")\n",
        "print(df.head())"
      ],
      "metadata": {
        "id": "8AERJjuBmubo",
        "colab": {
          "base_uri": "https://localhost:8080/"
        },
        "outputId": "ca1a33cf-7bd8-4a84-c8d6-3978cbf30dcf"
      },
      "execution_count": 36,
      "outputs": [
        {
          "output_type": "stream",
          "name": "stdout",
          "text": [
            "Pembersihan selesai. Contoh data setelah dibersihkan:\n",
            "                                               title  \\\n",
            "0  Analisis Perbandingan Load Balancing dengan Me...   \n",
            "1  Analisis Perbandingan Load Balancing dengan Me...   \n",
            "2  Implementasi Serangan Sniffing terhadap Algori...   \n",
            "3  Implementasi Serangan Sniffing terhadap Algori...   \n",
            "4  Implementasi Serangan Sniffing terhadap Algori...   \n",
            "\n",
            "                                               title  \\\n",
            "0  Analisis Perbandingan Load Balancing dengan Me...   \n",
            "1  Analisis Perbandingan Load Balancing dengan Me...   \n",
            "2  Implementasi Serangan Sniffing terhadap Algori...   \n",
            "3  Implementasi Serangan Sniffing terhadap Algori...   \n",
            "4  Implementasi Serangan Sniffing terhadap Algori...   \n",
            "\n",
            "                         penulis  \\\n",
            "0  Handy Kurniawan Ponco Widagdo   \n",
            "1                 Heru Nurwasito   \n",
            "2                    Fani Madina   \n",
            "3                   Ari Kusyanti   \n",
            "4           Fariz Andri Bakhtiar   \n",
            "\n",
            "                                       cleaned_title  \n",
            "0  analisis perbandingan load balancing dengan me...  \n",
            "1  analisis perbandingan load balancing dengan me...  \n",
            "2  implementasi serangan sniffing terhadap algori...  \n",
            "3  implementasi serangan sniffing terhadap algori...  \n",
            "4  implementasi serangan sniffing terhadap algori...  \n"
          ]
        }
      ]
    },
    {
      "cell_type": "code",
      "source": [
        "output_path = 'cleaned_data.csv'\n",
        "df.to_csv(output_path, index=False)"
      ],
      "metadata": {
        "id": "OrN3YoyVpaK1"
      },
      "execution_count": 37,
      "outputs": []
    },
    {
      "cell_type": "code",
      "source": [
        "print(\"Data yang sudah dibersihkan siap diunduh.\")\n",
        "files.download(output_path)"
      ],
      "metadata": {
        "colab": {
          "base_uri": "https://localhost:8080/",
          "height": 34
        },
        "id": "qu2NTYRIpca1",
        "outputId": "1d49f8a3-6964-4d3d-828f-50a56cbb4353"
      },
      "execution_count": 38,
      "outputs": [
        {
          "output_type": "stream",
          "name": "stdout",
          "text": [
            "Data yang sudah dibersihkan siap diunduh.\n"
          ]
        },
        {
          "output_type": "display_data",
          "data": {
            "text/plain": [
              "<IPython.core.display.Javascript object>"
            ],
            "application/javascript": [
              "\n",
              "    async function download(id, filename, size) {\n",
              "      if (!google.colab.kernel.accessAllowed) {\n",
              "        return;\n",
              "      }\n",
              "      const div = document.createElement('div');\n",
              "      const label = document.createElement('label');\n",
              "      label.textContent = `Downloading \"${filename}\": `;\n",
              "      div.appendChild(label);\n",
              "      const progress = document.createElement('progress');\n",
              "      progress.max = size;\n",
              "      div.appendChild(progress);\n",
              "      document.body.appendChild(div);\n",
              "\n",
              "      const buffers = [];\n",
              "      let downloaded = 0;\n",
              "\n",
              "      const channel = await google.colab.kernel.comms.open(id);\n",
              "      // Send a message to notify the kernel that we're ready.\n",
              "      channel.send({})\n",
              "\n",
              "      for await (const message of channel.messages) {\n",
              "        // Send a message to notify the kernel that we're ready.\n",
              "        channel.send({})\n",
              "        if (message.buffers) {\n",
              "          for (const buffer of message.buffers) {\n",
              "            buffers.push(buffer);\n",
              "            downloaded += buffer.byteLength;\n",
              "            progress.value = downloaded;\n",
              "          }\n",
              "        }\n",
              "      }\n",
              "      const blob = new Blob(buffers, {type: 'application/binary'});\n",
              "      const a = document.createElement('a');\n",
              "      a.href = window.URL.createObjectURL(blob);\n",
              "      a.download = filename;\n",
              "      div.appendChild(a);\n",
              "      a.click();\n",
              "      div.remove();\n",
              "    }\n",
              "  "
            ]
          },
          "metadata": {}
        },
        {
          "output_type": "display_data",
          "data": {
            "text/plain": [
              "<IPython.core.display.Javascript object>"
            ],
            "application/javascript": [
              "download(\"download_5bfe7dc1-3a0b-47ee-aec9-a12f4cc0ca42\", \"cleaned_data.csv\", 1529787)"
            ]
          },
          "metadata": {}
        }
      ]
    }
  ]
}